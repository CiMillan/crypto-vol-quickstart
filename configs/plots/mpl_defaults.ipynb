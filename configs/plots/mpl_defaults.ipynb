{
 "cells": [
  {
   "cell_type": "code",
   "execution_count": null,
   "id": "6a22499d",
   "metadata": {
    "lines_to_next_cell": 1
   },
   "outputs": [],
   "source": [
    "\"\"\"\n",
    "Matplotlib defaults for crypto-vol-quickstart.\n",
    "\n",
    "Usage (top of any notebook):\n",
    "    from configs.plots.mpl_defaults import use_mpl_defaults, format_date_axis\n",
    "    use_mpl_defaults()\n",
    "\n",
    "Then (optional):\n",
    "    ax = plt.gca()\n",
    "    format_date_axis(ax)\n",
    "\"\"\"\n",
    "from __future__ import annotations\n",
    "import matplotlib as mpl\n",
    "import matplotlib.pyplot as plt\n",
    "import matplotlib.dates as mdates"
   ]
  },
  {
   "cell_type": "code",
   "execution_count": null,
   "id": "9f8953b9",
   "metadata": {
    "lines_to_next_cell": 1
   },
   "outputs": [],
   "source": [
    "def use_mpl_defaults(dpi: int = 150, base_font: float = 11.0) -> None:\n",
    "    \"\"\"Set sane plotting defaults (no custom colors). Call once per notebook.\"\"\"\n",
    "    rc = mpl.rcParams\n",
    "    rc[\"figure.dpi\"] = dpi\n",
    "    rc[\"savefig.dpi\"] = dpi\n",
    "    rc[\"savefig.bbox\"] = \"tight\"\n",
    "\n",
    "    rc[\"figure.figsize\"] = (11, 4.5)\n",
    "\n",
    "    rc[\"font.size\"] = base_font\n",
    "    rc[\"axes.titlesize\"] = base_font + 1\n",
    "    rc[\"axes.labelsize\"] = base_font\n",
    "    rc[\"xtick.labelsize\"] = base_font - 2\n",
    "    rc[\"ytick.labelsize\"] = base_font - 2\n",
    "    rc[\"legend.fontsize\"] = base_font - 2\n",
    "    rc[\"legend.frameon\"] = False\n",
    "\n",
    "    rc[\"axes.grid\"] = True\n",
    "    rc[\"grid.linestyle\"] = \"--\"\n",
    "    rc[\"grid.alpha\"] = 0.3\n",
    "\n",
    "    rc[\"axes.spines.top\"] = False\n",
    "    rc[\"axes.spines.right\"] = False\n",
    "\n",
    "    rc[\"lines.linewidth\"] = 1.25"
   ]
  },
  {
   "cell_type": "code",
   "execution_count": null,
   "id": "757bd76b",
   "metadata": {},
   "outputs": [],
   "source": [
    "def format_date_axis(ax: mpl.axes.Axes | None = None) -> mpl.axes.Axes:\n",
    "    \"\"\"Apply concise date formatting to the x-axis of a time series plot.\"\"\"\n",
    "    ax = ax or plt.gca()\n",
    "    locator = mdates.AutoDateLocator(minticks=5, maxticks=12)\n",
    "    formatter = mdates.ConciseDateFormatter(locator)\n",
    "    ax.xaxis.set_major_locator(locator)\n",
    "    ax.xaxis.set_major_formatter(formatter)\n",
    "    for label in ax.get_xticklabels():\n",
    "        label.set_rotation(0)\n",
    "        label.set_ha(\"center\")\n",
    "    return ax"
   ]
  }
 ],
 "metadata": {
  "jupytext": {
   "cell_metadata_filter": "-all",
   "main_language": "python",
   "notebook_metadata_filter": "jupytext,text_representation,kernelspec"
  }
 },
 "nbformat": 4,
 "nbformat_minor": 5
}
