{
 "cells": [
  {
   "cell_type": "code",
   "execution_count": null,
   "id": "5a2c4878",
   "metadata": {
    "lines_to_next_cell": 1
   },
   "outputs": [],
   "source": [
    "import argparse, json\n",
    "import numpy as np\n",
    "import pandas as pd\n",
    "from pathlib import Path"
   ]
  },
  {
   "cell_type": "code",
   "execution_count": null,
   "id": "462eda1e",
   "metadata": {
    "lines_to_next_cell": 1
   },
   "outputs": [],
   "source": [
    "def max_drawdown(returns: pd.Series) -> float:\n",
    "    equity = (1.0 + returns).cumprod()\n",
    "    drawdown = equity / equity.cummax() - 1.0\n",
    "    return float(drawdown.min())"
   ]
  },
  {
   "cell_type": "code",
   "execution_count": null,
   "id": "eb149521",
   "metadata": {
    "lines_to_next_cell": 1
   },
   "outputs": [],
   "source": [
    "def backtest(pred_df: pd.DataFrame, ret_series: pd.Series, fee_bps: float = 1.0):\n",
    "    df = pred_df.copy()\n",
    "    df = df.join(ret_series, how=\"left\").dropna(subset=[\"y_pred\", \"ret\"])\n",
    "\n",
    "    eps = 1e-8\n",
    "    tgt_vol = df[\"y_pred\"].rolling(50).median().bfill()\n",
    "    w = (tgt_vol.median() / (df[\"y_pred\"] + eps)).clip(0, 5.0)\n",
    "\n",
    "    gross_ret = w * df[\"ret\"]\n",
    "    turn = w.diff().abs().fillna(0.0)\n",
    "    fees = turn * (fee_bps / 10000.0)\n",
    "    strat_ret = gross_ret - fees\n",
    "\n",
    "    ann = np.sqrt(252 * 24 * 12)  # 5m bars\n",
    "    sharpe = float(ann * strat_ret.mean() / (strat_ret.std() + 1e-12))\n",
    "    sortino = float(ann * strat_ret.mean() / (strat_ret[strat_ret < 0].std() + 1e-12))\n",
    "\n",
    "    stats = {\n",
    "        \"sharpe\": sharpe,\n",
    "        \"sortino\": sortino,\n",
    "        \"mdd\": max_drawdown(strat_ret),\n",
    "        \"avg_turnover\": float(turn.mean()),\n",
    "        \"n_obs\": int(len(strat_ret)),\n",
    "    }\n",
    "    detail = pd.DataFrame({\"w\": w, \"gross_ret\": gross_ret, \"fees\": fees, \"strat_ret\": strat_ret})\n",
    "    return stats, detail"
   ]
  },
  {
   "cell_type": "code",
   "execution_count": null,
   "id": "c8daf573",
   "metadata": {
    "lines_to_next_cell": 1
   },
   "outputs": [],
   "source": [
    "def main():\n",
    "    ap = argparse.ArgumentParser()\n",
    "    ap.add_argument(\"--pred\", required=True, help=\"predictions.parquet from modeling\")\n",
    "    ap.add_argument(\"--features\", required=True, help=\"processed features parquet (for real returns)\")\n",
    "    ap.add_argument(\"--retcol\", default=\"ret_5\")\n",
    "    ap.add_argument(\"--output\", required=True)\n",
    "    ap.add_argument(\"--model\", default=\"p_xgb\")\n",
    "    ap.add_argument(\"--fee_bps\", type=float, default=1.0)\n",
    "    args = ap.parse_args()\n",
    "\n",
    "    pred = pd.read_parquet(args.pred).sort_values(\"ts\")      # 'ts' written by modeling\n",
    "    feat = pd.read_parquet(args.features).sort_index()       # features indexed by timestamp\n",
    "\n",
    "    merged = pred.set_index(\"ts\").join(feat[[args.retcol]], how=\"left\")\n",
    "    merged = merged.rename(columns={args.retcol: \"ret\"})\n",
    "    merged[\"y_pred\"] = merged[args.model]\n",
    "\n",
    "    stats, detail = backtest(merged, merged[\"ret\"], fee_bps=args.fee_bps)\n",
    "\n",
    "    Path(args.output).parent.mkdir(parents=True, exist_ok=True)\n",
    "    with open(args.output, \"w\") as f:\n",
    "        json.dump(stats, f, indent=2)\n",
    "    detail.to_parquet(args.output.replace(\".json\", \"_detail.parquet\"))\n",
    "    print(json.dumps(stats, indent=2))"
   ]
  },
  {
   "cell_type": "code",
   "execution_count": null,
   "id": "3ccc6117",
   "metadata": {},
   "outputs": [],
   "source": [
    "if __name__ == \"__main__\":\n",
    "    main()"
   ]
  }
 ],
 "metadata": {
  "jupytext": {
   "cell_metadata_filter": "-all",
   "main_language": "python",
   "notebook_metadata_filter": "jupytext,text_representation,kernelspec"
  }
 },
 "nbformat": 4,
 "nbformat_minor": 5
}
