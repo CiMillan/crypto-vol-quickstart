{
 "cells": [
  {
   "cell_type": "code",
   "execution_count": null,
   "id": "3bb066dc",
   "metadata": {},
   "outputs": [],
   "source": [
    "from dataclasses import dataclass\n",
    "from typing import Tuple, Optional\n",
    "import math, os, time, json, datetime as dt\n",
    "import numpy as np\n",
    "import pandas as pd\n",
    "import ccxt\n",
    "import statsmodels.api as sm\n",
    "import matplotlib.pyplot as plt"
   ]
  },
  {
   "cell_type": "code",
   "execution_count": null,
   "id": "3f6a6638",
   "metadata": {
    "lines_to_next_cell": 1
   },
   "outputs": [],
   "source": [
    "# Optional ML\n",
    "try:\n",
    "    from xgboost import XGBRegressor\n",
    "    _HAS_XGB = True\n",
    "except Exception:\n",
    "    _HAS_XGB = False"
   ]
  },
  {
   "cell_type": "code",
   "execution_count": null,
   "id": "5fc09590",
   "metadata": {
    "lines_to_next_cell": 1
   },
   "outputs": [],
   "source": [
    "@dataclass\n",
    "class HedgeResults:\n",
    "    hedge_ratio: float\n",
    "    var_spot: float\n",
    "    var_hedged: float\n",
    "    variance_reduction: float\n",
    "    sharpe_spot: float\n",
    "    sharpe_hedged: float\n",
    "    maxdd_spot: float\n",
    "    maxdd_hedged: float"
   ]
  },
  {
   "cell_type": "code",
   "execution_count": null,
   "id": "316b763f",
   "metadata": {
    "lines_to_next_cell": 1
   },
   "outputs": [],
   "source": [
    "def ensure_dir(path: str):\n",
    "    os.makedirs(path, exist_ok=True)"
   ]
  },
  {
   "cell_type": "code",
   "execution_count": null,
   "id": "0afe5e47",
   "metadata": {
    "lines_to_next_cell": 1
   },
   "outputs": [],
   "source": [
    "def fetch_ohlcv(exchange: ccxt.binance, market: str, timeframe: str = \"1h\", limit: int = 1000) -> pd.DataFrame:\n",
    "    data = exchange.fetch_ohlcv(market, timeframe=timeframe, limit=limit)\n",
    "    df = pd.DataFrame(data, columns=[\"ts\",\"open\",\"high\",\"low\",\"close\",\"volume\"])\n",
    "    df[\"ts\"] = pd.to_datetime(df[\"ts\"], unit=\"ms\", utc=True)\n",
    "    df = df.set_index(\"ts\").sort_index()\n",
    "    return df"
   ]
  },
  {
   "cell_type": "code",
   "execution_count": null,
   "id": "e6806f31",
   "metadata": {
    "lines_to_next_cell": 1
   },
   "outputs": [],
   "source": [
    "def fetch_funding_rates(exchange: ccxt.binance, symbol_perp: str, limit: int = 200) -> pd.DataFrame:\n",
    "    \"\"\"Fetch recent funding rate history if supported by ccxt; fallback empty df.\"\"\"\n",
    "    if hasattr(exchange, \"fetch_funding_rate_history\"):\n",
    "        try:\n",
    "            rows = exchange.fetch_funding_rate_history(symbol_perp, limit=limit) or []\n",
    "            if rows:\n",
    "                df = pd.DataFrame(rows)\n",
    "                if \"datetime\" in df.columns:\n",
    "                    df[\"ts\"] = pd.to_datetime(df[\"datetime\"], utc=True)\n",
    "                elif \"timestamp\" in df.columns:\n",
    "                    df[\"ts\"] = pd.to_datetime(df[\"timestamp\"], unit=\"ms\", utc=True)\n",
    "                return df.set_index(\"ts\").sort_index()\n",
    "        except Exception:\n",
    "            pass\n",
    "    return pd.DataFrame(columns=[\"fundingRate\"])"
   ]
  },
  {
   "cell_type": "code",
   "execution_count": null,
   "id": "f04ced00",
   "metadata": {
    "lines_to_next_cell": 1
   },
   "outputs": [],
   "source": [
    "def align_close(spot_df: pd.DataFrame, perp_df: pd.DataFrame) -> Tuple[pd.Series, pd.Series]:\n",
    "    df = pd.DataFrame({\"spot\": spot_df[\"close\"], \"perp\": perp_df[\"close\"]}).dropna()\n",
    "    return df[\"spot\"], df[\"perp\"]"
   ]
  },
  {
   "cell_type": "code",
   "execution_count": null,
   "id": "f9642200",
   "metadata": {
    "lines_to_next_cell": 1
   },
   "outputs": [],
   "source": [
    "def compute_log_returns(series: pd.Series) -> pd.Series:\n",
    "    return np.log(series).diff().dropna()"
   ]
  },
  {
   "cell_type": "code",
   "execution_count": null,
   "id": "f5dc6ae2",
   "metadata": {
    "lines_to_next_cell": 1
   },
   "outputs": [],
   "source": [
    "def estimate_ols_hedge_ratio(r_spot: pd.Series, r_perp: pd.Series) -> float:\n",
    "    aligned = pd.concat([r_spot, r_perp], axis=1, join=\"inner\").dropna()\n",
    "    y = aligned.iloc[:,0].values\n",
    "    x = aligned.iloc[:,1].values\n",
    "    X = sm.add_constant(x)\n",
    "    model = sm.OLS(y, X).fit()\n",
    "    return float(model.params[1])"
   ]
  },
  {
   "cell_type": "code",
   "execution_count": null,
   "id": "9a4694c3",
   "metadata": {
    "lines_to_next_cell": 1
   },
   "outputs": [],
   "source": [
    "def backtest_static_hedge(r_spot: pd.Series, r_perp: pd.Series, beta: float) -> Tuple[pd.Series, pd.Series]:\n",
    "    aligned = pd.concat([r_spot.rename(\"spot\"), r_perp.rename(\"perp\")], axis=1, join=\"inner\").dropna()\n",
    "    r_spot_al = aligned[\"spot\"]\n",
    "    r_perp_al = aligned[\"perp\"]\n",
    "    r_hedged = r_spot_al - beta * r_perp_al\n",
    "    return r_spot_al, r_hedged"
   ]
  },
  {
   "cell_type": "code",
   "execution_count": null,
   "id": "3b4a9499",
   "metadata": {
    "lines_to_next_cell": 1
   },
   "outputs": [],
   "source": [
    "def max_drawdown_from_returns(returns: pd.Series) -> float:\n",
    "    equity = (1.0 + returns).cumprod()\n",
    "    rolling_max = equity.cummax()\n",
    "    dd = equity / rolling_max - 1.0\n",
    "    return float(dd.min())"
   ]
  },
  {
   "cell_type": "code",
   "execution_count": null,
   "id": "bf8074fb",
   "metadata": {
    "lines_to_next_cell": 1
   },
   "outputs": [],
   "source": [
    "def sharpe_ratio(returns: pd.Series, periods_per_year: int) -> float:\n",
    "    if returns.empty or returns.std() == 0:\n",
    "        return 0.0\n",
    "    return float((returns.mean() / returns.std()) * math.sqrt(periods_per_year))"
   ]
  },
  {
   "cell_type": "code",
   "execution_count": null,
   "id": "88d461f4",
   "metadata": {
    "lines_to_next_cell": 1
   },
   "outputs": [],
   "source": [
    "def infer_periods_per_year(timeframe: str) -> int:\n",
    "    mapping = {\"1m\":365*24*60, \"5m\":365*24*12, \"15m\":365*24*4, \"30m\":365*24*2, \"1h\":365*24, \"4h\":365*6, \"1d\":365}\n",
    "    return mapping.get(timeframe, 365*24)"
   ]
  },
  {
   "cell_type": "code",
   "execution_count": null,
   "id": "ce665228",
   "metadata": {
    "lines_to_next_cell": 1
   },
   "outputs": [],
   "source": [
    "# ---------- plotting (single-plot, default colors) ----------\n",
    "def plot_series(spot_close: pd.Series, perp_close: pd.Series, outdir: str):\n",
    "    ensure_dir(outdir)\n",
    "    plt.figure()\n",
    "    spot_close.plot(label=\"Spot Close\")\n",
    "    perp_close.plot(label=\"Perp Close\")\n",
    "    plt.title(\"Spot vs Perp Close\")\n",
    "    plt.legend()\n",
    "    plt.tight_layout()\n",
    "    plt.savefig(os.path.join(outdir, \"prices.png\"))\n",
    "    plt.close()"
   ]
  },
  {
   "cell_type": "code",
   "execution_count": null,
   "id": "2fae98f3",
   "metadata": {
    "lines_to_next_cell": 1
   },
   "outputs": [],
   "source": [
    "def plot_cumlogret(r_spot: pd.Series, r_hedged: pd.Series, outdir: str):\n",
    "    ensure_dir(outdir)\n",
    "    plt.figure()\n",
    "    r_spot.cumsum().plot(label=\"Spot log-return cum\")\n",
    "    r_hedged.cumsum().plot(label=\"Hedged log-return cum\")\n",
    "    plt.title(\"Cumulative Log Returns\")\n",
    "    plt.legend()\n",
    "    plt.tight_layout()\n",
    "    plt.savefig(os.path.join(outdir, \"cumlogret.png\"))\n",
    "    plt.close()"
   ]
  },
  {
   "cell_type": "code",
   "execution_count": null,
   "id": "d371a497",
   "metadata": {
    "lines_to_next_cell": 1
   },
   "outputs": [],
   "source": [
    "# ---------- simple realized vol + XGB model ----------\n",
    "def realized_vol(returns: pd.Series, window: int = 24) -> pd.Series:\n",
    "    \"\"\"Rolling realized vol (std of returns) annualized by sqrt(periods). Returns same frequency.\"\"\"\n",
    "    if returns.empty:\n",
    "        return returns\n",
    "    rv = returns.rolling(window).std()\n",
    "    return rv"
   ]
  },
  {
   "cell_type": "code",
   "execution_count": null,
   "id": "cd4269ab",
   "metadata": {
    "lines_to_next_cell": 1
   },
   "outputs": [],
   "source": [
    "def build_ml_vol_features(returns: pd.Series, window: int = 48) -> pd.DataFrame:\n",
    "    df = pd.DataFrame({\"r\": returns})\n",
    "    df[\"abs_r\"] = df[\"r\"].abs()\n",
    "    df[\"rv_24\"] = realized_vol(returns, 24)\n",
    "    df[\"rv_48\"] = realized_vol(returns, 48)\n",
    "    df[\"lag1_abs\"] = df[\"abs_r\"].shift(1)\n",
    "    df[\"lag2_abs\"] = df[\"abs_r\"].shift(2)\n",
    "    df[\"lag3_abs\"] = df[\"abs_r\"].shift(3)\n",
    "    df = df.dropna()\n",
    "    # target = next window vol (e.g., rv_24 forward)\n",
    "    df[\"target_vol\"] = df[\"rv_24\"].shift(-1)\n",
    "    return df.dropna()"
   ]
  },
  {
   "cell_type": "code",
   "execution_count": null,
   "id": "ece7b2a6",
   "metadata": {
    "lines_to_next_cell": 1
   },
   "outputs": [],
   "source": [
    "def train_xgb_vol_model(df: pd.DataFrame):\n",
    "    if not _HAS_XGB:\n",
    "        raise RuntimeError(\"xgboost not installed; add it to requirements.txt\")\n",
    "    features = [\"abs_r\",\"rv_24\",\"rv_48\",\"lag1_abs\",\"lag2_abs\",\"lag3_abs\"]\n",
    "    X = df[features].values\n",
    "    y = df[\"target_vol\"].values\n",
    "    # very small model for speed; tune later\n",
    "    model = XGBRegressor(\n",
    "        n_estimators=200, max_depth=4, learning_rate=0.05,\n",
    "        subsample=0.8, colsample_bytree=0.8, reg_lambda=1.0,\n",
    "        random_state=42\n",
    "    )\n",
    "    model.fit(X, y)\n",
    "    return model, features"
   ]
  },
  {
   "cell_type": "code",
   "execution_count": null,
   "id": "04dd8e21",
   "metadata": {
    "lines_to_next_cell": 1
   },
   "outputs": [],
   "source": [
    "def predict_next_vol(model, features: list, latest_row: pd.Series) -> Optional[float]:\n",
    "    try:\n",
    "        x = latest_row[features].values.reshape(1, -1)\n",
    "        return float(model.predict(x)[0])\n",
    "    except Exception:\n",
    "        return None"
   ]
  },
  {
   "cell_type": "code",
   "execution_count": null,
   "id": "67f39ae6",
   "metadata": {
    "lines_to_next_cell": 1
   },
   "outputs": [],
   "source": [
    "def scale_hedge_ratio(beta: float, pred_vol: Optional[float],\n",
    "                      vol_low: float, vol_high: float,\n",
    "                      scale_min: float = 0.3, scale_max: float = 1.2) -> float:\n",
    "    \"\"\"\n",
    "    Map predicted vol to a scaling in [scale_min, scale_max].\n",
    "    If no prediction, return beta.\n",
    "    \"\"\"\n",
    "    if pred_vol is None or not np.isfinite(pred_vol):\n",
    "        return beta\n",
    "    z = (pred_vol - vol_low) / max(1e-9, (vol_high - vol_low))\n",
    "    z = min(max(z, 0.0), 1.0)\n",
    "    return beta * (scale_min + z * (scale_max - scale_min))"
   ]
  },
  {
   "cell_type": "code",
   "execution_count": null,
   "id": "b0ae0a3d",
   "metadata": {
    "lines_to_next_cell": 1
   },
   "outputs": [],
   "source": [
    "# ---------- paper-trade helper (dry-run by default) ----------\n",
    "def init_binance(testnet: bool = True, api_key: Optional[str] = None, secret: Optional[str] = None):\n",
    "    \"\"\"\n",
    "    Initialize binance client. For testnet trading, pass testnet=True and your testnet keys via env.\n",
    "    \"\"\"\n",
    "    ex = ccxt.binanceusdm()  # USD-M futures for perps\n",
    "    if testnet and hasattr(ex, \"set_sandbox_mode\"):\n",
    "        ex.set_sandbox_mode(True)\n",
    "    if api_key and secret:\n",
    "        ex.apiKey = api_key\n",
    "        ex.secret = secret\n",
    "    return ex"
   ]
  },
  {
   "cell_type": "code",
   "execution_count": null,
   "id": "83b1ec69",
   "metadata": {
    "lines_to_next_cell": 2
   },
   "outputs": [],
   "source": [
    "def intended_rebalance_log(path: str, payload: dict):\n",
    "    ensure_dir(os.path.dirname(path))\n",
    "    with open(path, \"a\") as f:\n",
    "        f.write(json.dumps(payload) + \"\\n\")"
   ]
  }
 ],
 "metadata": {
  "jupytext": {
   "cell_metadata_filter": "-all",
   "main_language": "python",
   "notebook_metadata_filter": "jupytext,text_representation,kernelspec"
  }
 },
 "nbformat": 4,
 "nbformat_minor": 5
}
