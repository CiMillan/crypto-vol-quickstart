{
 "cells": [
  {
   "cell_type": "code",
   "execution_count": null,
   "id": "751cdc05",
   "metadata": {
    "lines_to_next_cell": 1
   },
   "outputs": [],
   "source": [
    "import argparse\n",
    "import pandas as pd\n",
    "import numpy as np\n",
    "from dateutil.relativedelta import relativedelta\n",
    "from ..utils.io import read_parquet, write_parquet"
   ]
  },
  {
   "cell_type": "code",
   "execution_count": null,
   "id": "c8a3b2dc",
   "metadata": {
    "lines_to_next_cell": 1
   },
   "outputs": [],
   "source": [
    "def resample_ohlc(df, rule='5T'):\n",
    "    o = df['open'].resample(rule).first()\n",
    "    h = df['high'].resample(rule).max()\n",
    "    l = df['low'].resample(rule).min()\n",
    "    c = df['close'].resample(rule).last()\n",
    "    v = df['volume'].resample(rule).sum()\n",
    "    out = pd.concat({'open':o,'high':h,'low':l,'close':c,'volume':v}, axis=1).dropna()\n",
    "    return out"
   ]
  },
  {
   "cell_type": "code",
   "execution_count": null,
   "id": "40399d49",
   "metadata": {
    "lines_to_next_cell": 1
   },
   "outputs": [],
   "source": [
    "def realized_vol(returns, window):\n",
    "    return returns.rolling(window).std() * np.sqrt(returns.freq.n / pd.Timedelta('1D'))"
   ]
  },
  {
   "cell_type": "code",
   "execution_count": null,
   "id": "a5c6d740",
   "metadata": {
    "lines_to_next_cell": 1
   },
   "outputs": [],
   "source": [
    "def make_basic_features(ohlc):\n",
    "    ohlc = ohlc.copy()\n",
    "    ohlc['ret_1'] = np.log(ohlc['close']).diff()\n",
    "    ohlc['ret_5'] = ohlc['ret_1'].rolling(5).sum()\n",
    "    ohlc['rv_5'] = ohlc['ret_1'].rolling(5).std() * np.sqrt(5)\n",
    "    ohlc['rv_12'] = ohlc['ret_1'].rolling(12).std() * np.sqrt(12)\n",
    "    ohlc['rsi_14'] = ta_rsi(ohlc['close'], 14)\n",
    "    ohlc['sma_20'] = ohlc['close'].rolling(20).mean()\n",
    "    ohlc['ema_20'] = ohlc['close'].ewm(span=20, adjust=False).mean()\n",
    "    return ohlc"
   ]
  },
  {
   "cell_type": "code",
   "execution_count": null,
   "id": "2e590b58",
   "metadata": {
    "lines_to_next_cell": 1
   },
   "outputs": [],
   "source": [
    "def ta_rsi(close, period=14):\n",
    "    delta = close.diff()\n",
    "    up = delta.clip(lower=0)\n",
    "    down = -1 * delta.clip(upper=0)\n",
    "    ma_up = up.ewm(com=(period-1), adjust=False).mean()\n",
    "    ma_down = down.ewm(com=(period-1), adjust=False).mean()\n",
    "    rs = ma_up / ma_down\n",
    "    rsi = 100 - (100 / (1 + rs))\n",
    "    return rsi"
   ]
  },
  {
   "cell_type": "code",
   "execution_count": null,
   "id": "81e7b9f3",
   "metadata": {
    "lines_to_next_cell": 1
   },
   "outputs": [],
   "source": [
    "def align_funding(features, funding):\n",
    "    # Funding is ~8-hour cadence; forward-fill to bar frequency\n",
    "    funding = funding.reindex(features.index).ffill()\n",
    "    features = features.join(funding, how='left')\n",
    "    return features"
   ]
  },
  {
   "cell_type": "code",
   "execution_count": null,
   "id": "fa5742bb",
   "metadata": {
    "lines_to_next_cell": 1
   },
   "outputs": [],
   "source": [
    "def add_target(features, horizon=12):\n",
    "    # Target: next-horizon realized volatility (sum of future returns std)\n",
    "    ret1 = features['ret_1']\n",
    "    fut_ret = ret1.shift(-1).rolling(horizon).sum()\n",
    "    target = ret1.shift(-1).rolling(horizon).std() * np.sqrt(horizon)\n",
    "    features['target_rv'] = target\n",
    "    return features"
   ]
  },
  {
   "cell_type": "code",
   "execution_count": null,
   "id": "043648ff",
   "metadata": {
    "lines_to_next_cell": 1
   },
   "outputs": [],
   "source": [
    "def main():\n",
    "    ap = argparse.ArgumentParser()\n",
    "    ap.add_argument('--spot', required=True)\n",
    "    ap.add_argument('--funding', required=True)\n",
    "    ap.add_argument('--symbol', required=True)\n",
    "    ap.add_argument('--timeframe', default='5m')  # 5T pandas alias\n",
    "    ap.add_argument('--out', required=True)\n",
    "    args = ap.parse_args()\n",
    "\n",
    "    spot = read_parquet(args.spot)\n",
    "    spot = spot.tz_convert('UTC')\n",
    "    rule = {'1m':'1T','3m':'3T','5m':'5T','15m':'15T','1h':'1H'}.get(args.timeframe, '5T')\n",
    "    spot = resample_ohlc(spot, rule=rule)\n",
    "\n",
    "    funding = read_parquet(args.funding)\n",
    "\n",
    "    feat = make_basic_features(spot)\n",
    "    feat = align_funding(feat, funding)\n",
    "    feat = add_target(feat, horizon=12 if rule=='5T' else 12)\n",
    "    feat['symbol'] = args.symbol\n",
    "    feat = feat.dropna()\n",
    "    write_parquet(feat, args.out)\n",
    "    print(f'Features written: {args.out}, rows={len(feat):,}')"
   ]
  },
  {
   "cell_type": "code",
   "execution_count": null,
   "id": "2e1c0708",
   "metadata": {},
   "outputs": [],
   "source": [
    "if __name__ == '__main__':\n",
    "    main()"
   ]
  }
 ],
 "metadata": {
  "jupytext": {
   "cell_metadata_filter": "-all",
   "notebook_metadata_filter": "jupytext,text_representation,kernelspec"
  },
  "kernelspec": {
   "display_name": "Python 3 (ipykernel)",
   "language": "python",
   "name": "python3"
  },
  "language_info": {
   "codemirror_mode": {
    "name": "ipython",
    "version": 3
   },
   "file_extension": ".py",
   "mimetype": "text/x-python",
   "name": "python",
   "nbconvert_exporter": "python",
   "pygments_lexer": "ipython3",
   "version": "3.8.12"
  }
 },
 "nbformat": 4,
 "nbformat_minor": 5
}
