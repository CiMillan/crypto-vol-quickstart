{
 "cells": [
  {
   "cell_type": "code",
   "execution_count": null,
   "id": "02200a71",
   "metadata": {
    "lines_to_next_cell": 1
   },
   "outputs": [],
   "source": [
    "import pandas as pd\n",
    "from pathlib import Path"
   ]
  },
  {
   "cell_type": "code",
   "execution_count": null,
   "id": "ae9bf388",
   "metadata": {
    "lines_to_next_cell": 1
   },
   "outputs": [],
   "source": [
    "def write_parquet(df: pd.DataFrame, path: str):\n",
    "    Path(path).parent.mkdir(parents=True, exist_ok=True)\n",
    "    df.to_parquet(path, index=True)"
   ]
  },
  {
   "cell_type": "code",
   "execution_count": null,
   "id": "0d39c5a9",
   "metadata": {},
   "outputs": [],
   "source": [
    "def read_parquet(path: str) -> pd.DataFrame:\n",
    "    return pd.read_parquet(path)"
   ]
  }
 ],
 "metadata": {
  "jupytext": {
   "cell_metadata_filter": "-all",
   "main_language": "python",
   "notebook_metadata_filter": "-all"
  }
 },
 "nbformat": 4,
 "nbformat_minor": 5
}
