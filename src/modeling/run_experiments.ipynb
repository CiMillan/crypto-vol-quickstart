{
 "cells": [
  {
   "cell_type": "code",
   "execution_count": null,
   "id": "fa382f65",
   "metadata": {
    "lines_to_next_cell": 1
   },
   "outputs": [],
   "source": [
    "import argparse\n",
    "import numpy as np, pandas as pd\n",
    "from pathlib import Path\n",
    "from sklearn.model_selection import TimeSeriesSplit\n",
    "from sklearn.metrics import mean_squared_error\n",
    "from xgboost import XGBRegressor\n",
    "from arch import arch_model\n",
    "from ..utils.io import read_parquet"
   ]
  },
  {
   "cell_type": "code",
   "execution_count": null,
   "id": "2fc1b9c4",
   "metadata": {
    "lines_to_next_cell": 1
   },
   "outputs": [],
   "source": [
    "def mase(y_true, y_pred):\n",
    "    if len(y_true) < 2: return np.nan\n",
    "    denom = np.mean(np.abs(y_true[1:] - y_true[:-1])) + 1e-12\n",
    "    return np.mean(np.abs(y_true - y_pred)) / denom"
   ]
  },
  {
   "cell_type": "code",
   "execution_count": null,
   "id": "9c76742e",
   "metadata": {
    "lines_to_next_cell": 1
   },
   "outputs": [],
   "source": [
    "def safe_metrics(y_true, y_pred):\n",
    "    mask = np.isfinite(y_true) & np.isfinite(y_pred)\n",
    "    n = int(mask.sum())\n",
    "    if n == 0: return np.nan, np.nan, n\n",
    "    yt, yp = y_true[mask], y_pred[mask]\n",
    "    rmse = float(np.sqrt(mean_squared_error(yt, yp)))\n",
    "    return rmse, float(mase(yt, yp)), n"
   ]
  },
  {
   "cell_type": "code",
   "execution_count": null,
   "id": "57efba5a",
   "metadata": {
    "lines_to_next_cell": 1
   },
   "outputs": [],
   "source": [
    "def garch_forecast(close, horizon):\n",
    "    ret = 100 * np.log(close).diff().dropna()\n",
    "    if len(ret) < 50: return np.nan\n",
    "    am = arch_model(ret, vol='Garch', p=1, q=1, rescale=False)\n",
    "    try:\n",
    "        res = am.fit(disp='off')\n",
    "        f = res.forecast(horizon=horizon, reindex=False).variance.values[-1, :]\n",
    "        return float(np.sqrt(np.mean(f)) / 100.0)\n",
    "    except Exception:\n",
    "        return np.nan"
   ]
  },
  {
   "cell_type": "code",
   "execution_count": null,
   "id": "b6860ce5",
   "metadata": {
    "lines_to_next_cell": 1
   },
   "outputs": [],
   "source": [
    "def build_matrix(df):\n",
    "    cols = ['ret_1','ret_5','rv_5','rv_12','rsi_14','sma_20','ema_20','fundingRate']\n",
    "    cols = [c for c in cols if c in df.columns]\n",
    "    return df[cols].values, df['target_rv'].values"
   ]
  },
  {
   "cell_type": "code",
   "execution_count": null,
   "id": "94e1a9ea",
   "metadata": {
    "lines_to_next_cell": 1
   },
   "outputs": [],
   "source": [
    "def run_wfv(df, horizon, outdir, enable_lstm=False):\n",
    "    Path(outdir).mkdir(parents=True, exist_ok=True)\n",
    "    X, y = build_matrix(df)\n",
    "    tscv = TimeSeriesSplit(n_splits=5)\n",
    "    preds_all, rows = [], []\n",
    "\n",
    "    for i, (tr, te) in enumerate(tscv.split(X)):\n",
    "        Xtr, Xte, ytr, yte = X[tr], X[te], y[tr], y[te]\n",
    "\n",
    "        # 1) XGBoost\n",
    "        xgb = XGBRegressor(\n",
    "            n_estimators=400, max_depth=6, learning_rate=0.05,\n",
    "            subsample=0.8, colsample_bytree=0.8, reg_lambda=1.0, tree_method='hist'\n",
    "        )\n",
    "        xgb.fit(Xtr, ytr)\n",
    "        p_xgb = xgb.predict(Xte)\n",
    "\n",
    "        # 2) LSTM (optional; only import torch if explicitly enabled)\n",
    "        p_lstm = np.full(len(yte), np.nan)\n",
    "        if enable_lstm:\n",
    "            try:\n",
    "                import torch, torch.nn as nn\n",
    "                class LSTMReg(nn.Module):\n",
    "                    def __init__(self, nfeat):\n",
    "                        super().__init__()\n",
    "                        self.lstm = nn.LSTM(nfeat, 32, batch_first=True)\n",
    "                        self.fc = nn.Linear(32, 1)\n",
    "                    def forward(self, x):\n",
    "                        o,_ = self.lstm(x); return self.fc(o[:,-1,:])\n",
    "                L=12\n",
    "                def mkseq(XA, yA):\n",
    "                    xs, ys = [], []\n",
    "                    for j in range(L, len(XA)):\n",
    "                        xs.append(XA[j-L:j]); ys.append(yA[j])\n",
    "                    return np.array(xs), np.array(ys)\n",
    "                Xtr_s, ytr_s = mkseq(Xtr, ytr); Xte_s, yte_s = mkseq(Xte, yte)\n",
    "                if len(Xte_s):\n",
    "                    model = LSTMReg(X.shape[1])\n",
    "                    opt = torch.optim.Adam(model.parameters(), lr=1e-3)\n",
    "                    lossf = nn.MSELoss()\n",
    "                    TX = torch.tensor(Xtr_s, dtype=torch.float32)\n",
    "                    Ty = torch.tensor(ytr_s, dtype=torch.float32).unsqueeze(-1)\n",
    "                    for _ in range(15):\n",
    "                        model.train(); opt.zero_grad()\n",
    "                        out = model(TX); loss = lossf(out, Ty)\n",
    "                        loss.backward(); opt.step()\n",
    "                    model.eval(); PX = torch.tensor(Xte_s, dtype=torch.float32)\n",
    "                    P = model(PX).detach().cpu().numpy().ravel()\n",
    "                    p_lstm = np.concatenate([np.full(len(yte)-len(P), np.nan), P])\n",
    "            except BaseException:\n",
    "                p_lstm = np.full(len(yte), np.nan)\n",
    "\n",
    "        # 3) GARCH (broadcast one-step vol across fold)\n",
    "        garch_pred = np.array([garch_forecast(df['close'].iloc[tr], horizon)] * len(yte), dtype=float)\n",
    "\n",
    "        # metrics\n",
    "        for name, pred in [('XGB', p_xgb), ('LSTM', p_lstm), ('GARCH', garch_pred)]:\n",
    "            rmse, m_mase, n = safe_metrics(yte, pred)\n",
    "            rows.append({'fold': i+1, 'model': name, 'rmse': rmse, 'mase': m_mase, 'n': n})\n",
    "\n",
    "        # keep timestamps for return merge\n",
    "        ts = df.index[te]\n",
    "        preds_all.append(pd.DataFrame({'idx': te, 'ts': ts, 'y_true': yte,\n",
    "                                       'p_xgb': p_xgb, 'p_lstm': p_lstm, 'p_garch': garch_pred}))\n",
    "\n",
    "    resdf = pd.DataFrame(rows)\n",
    "    pred_df = pd.concat(preds_all, ignore_index=True)\n",
    "    resdf.to_csv(f'{outdir}/metrics.csv', index=False)\n",
    "    pred_df.to_parquet(f'{outdir}/predictions.parquet', index=False)\n",
    "    print(\"Average by model:\"); print(resdf.groupby('model')[['rmse','mase']].mean())"
   ]
  },
  {
   "cell_type": "code",
   "execution_count": null,
   "id": "2e4c7566",
   "metadata": {
    "lines_to_next_cell": 1
   },
   "outputs": [],
   "source": [
    "def main():\n",
    "    ap = argparse.ArgumentParser()\n",
    "    ap.add_argument('--data', required=True)\n",
    "    ap.add_argument('--symbol', required=True)\n",
    "    ap.add_argument('--horizon', type=int, default=12)\n",
    "    ap.add_argument('--output', required=True)\n",
    "    ap.add_argument('--enable-lstm', action='store_true')\n",
    "    args = ap.parse_args()\n",
    "    df = read_parquet(args.data)\n",
    "    run_wfv(df, args.horizon, args.output, enable_lstm=args.enable_lstm)"
   ]
  },
  {
   "cell_type": "code",
   "execution_count": null,
   "id": "86cf6b15",
   "metadata": {},
   "outputs": [],
   "source": [
    "if __name__ == '__main__':\n",
    "    main()"
   ]
  }
 ],
 "metadata": {
  "jupytext": {
   "cell_metadata_filter": "-all",
   "main_language": "python",
   "notebook_metadata_filter": "jupytext,text_representation,kernelspec"
  }
 },
 "nbformat": 4,
 "nbformat_minor": 5
}
