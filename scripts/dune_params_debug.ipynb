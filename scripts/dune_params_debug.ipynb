{
 "cells": [
  {
   "cell_type": "code",
   "execution_count": null,
   "id": "4fe435e8",
   "metadata": {},
   "outputs": [],
   "source": [
    "import argparse, json\n",
    "from scripts.dune_to_parquet import parse_params, SimpleQuery  # re-use helpers\n",
    "ap = argparse.ArgumentParser()\n",
    "ap.add_argument(\"--query-id\", type=int, required=True)\n",
    "ap.add_argument(\"--param\", action=\"append\")\n",
    "args = ap.parse_args()\n",
    "params = parse_params(args.param)\n",
    "q = SimpleQuery(args.query_id, params)\n",
    "print(json.dumps(q.request_format(), indent=2))"
   ]
  }
 ],
 "metadata": {
  "jupytext": {
   "cell_metadata_filter": "-all",
   "main_language": "python",
   "notebook_metadata_filter": "jupytext,text_representation,kernelspec"
  }
 },
 "nbformat": 4,
 "nbformat_minor": 5
}
