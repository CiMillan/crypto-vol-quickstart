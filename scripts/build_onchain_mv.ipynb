{
 "cells": [
  {
   "cell_type": "code",
   "execution_count": null,
   "id": "0977ddd6",
   "metadata": {
    "lines_to_next_cell": 1
   },
   "outputs": [],
   "source": [
    "from pathlib import Path\n",
    "import argparse, sys\n",
    "from typing import Optional\n",
    "from src.features.onchain import build_onchain_mv_feature_set"
   ]
  },
  {
   "cell_type": "code",
   "execution_count": null,
   "id": "d2cb22da",
   "metadata": {
    "lines_to_next_cell": 1
   },
   "outputs": [],
   "source": [
    "def opt(path_str: Optional[str]) -> Optional[Path]:\n",
    "    if not path_str:\n",
    "        return None\n",
    "    p = Path(path_str)\n",
    "    if p.exists():\n",
    "        return p\n",
    "    print(f\"[WARN] Missing input: {p} (skipping)\", file=sys.stderr)\n",
    "    return None"
   ]
  },
  {
   "cell_type": "code",
   "execution_count": null,
   "id": "91dfe8d3",
   "metadata": {},
   "outputs": [],
   "source": [
    "p = argparse.ArgumentParser()\n",
    "p.add_argument(\"--start\", required=True)\n",
    "p.add_argument(\"--end\", required=True)\n",
    "p.add_argument(\"--out\", default=\"data/processed/onchain/mv_feature_set_hourly.parquet\")\n",
    "p.add_argument(\"--transfers\",   default=\"data/processed/onchain/transfers.parquet\")\n",
    "p.add_argument(\"--labels\",      default=\"data/processed/onchain/labels/exchanges.json\")\n",
    "p.add_argument(\"--swaps\",       default=\"data/processed/onchain/uniswap_swaps.parquet\")\n",
    "p.add_argument(\"--blocks\",      default=\"data/processed/onchain/eth_blocks.parquet\")\n",
    "p.add_argument(\"--first_seen\",  default=\"data/processed/onchain/address_first_seen.parquet\")\n",
    "args = p.parse_args()"
   ]
  },
  {
   "cell_type": "code",
   "execution_count": null,
   "id": "fcefd440",
   "metadata": {},
   "outputs": [],
   "source": [
    "df = build_onchain_mv_feature_set(\n",
    "    ts_start=args.start,\n",
    "    ts_end=args.end,\n",
    "    transfers_path=opt(args.transfers),\n",
    "    labels_exchanges_path=opt(args.labels),\n",
    "    uniswap_swaps_path=opt(args.swaps),\n",
    "    eth_blocks_path=opt(args.blocks),\n",
    "    address_first_seen_path=opt(args.first_seen),\n",
    ")"
   ]
  },
  {
   "cell_type": "code",
   "execution_count": null,
   "id": "826bc4cf",
   "metadata": {},
   "outputs": [],
   "source": [
    "out = Path(args.out)\n",
    "out.parent.mkdir(parents=True, exist_ok=True)\n",
    "df.to_parquet(out)\n",
    "print(f\"Saved {out} rows={len(df)} cols={len(df.columns)}\")"
   ]
  }
 ],
 "metadata": {
  "jupytext": {
   "cell_metadata_filter": "-all",
   "main_language": "python",
   "notebook_metadata_filter": "jupytext,text_representation,kernelspec"
  }
 },
 "nbformat": 4,
 "nbformat_minor": 5
}
