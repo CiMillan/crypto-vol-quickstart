{
 "cells": [
  {
   "cell_type": "code",
   "execution_count": null,
   "id": "c667b60c",
   "metadata": {
    "lines_to_next_cell": 1
   },
   "outputs": [],
   "source": [
    "import os, sys, argparse, json, time\n",
    "from pathlib import Path\n",
    "import pandas as pd\n",
    "from dune_client.client import DuneClient\n",
    "from dune_client.models import DuneError, ExecutionState"
   ]
  },
  {
   "cell_type": "code",
   "execution_count": null,
   "id": "d8822098",
   "metadata": {
    "lines_to_next_cell": 1
   },
   "outputs": [],
   "source": [
    "def parse_params(kvs):\n",
    "    d = {}\n",
    "    for kv in kvs or []:\n",
    "        if \"=\" not in kv:\n",
    "            print(f\"[WARN] Ignoring bad --param '{kv}' (expected key=value)\", file=sys.stderr)\n",
    "            continue\n",
    "        k, v = kv.split(\"=\", 1)\n",
    "        d[k] = v\n",
    "    return d"
   ]
  },
  {
   "cell_type": "code",
   "execution_count": null,
   "id": "b820085a",
   "metadata": {
    "lines_to_next_cell": 1
   },
   "outputs": [],
   "source": [
    "class SimpleQuery:\n",
    "    def __init__(self, query_id: int, params: dict):\n",
    "        self.query_id = query_id\n",
    "        self._params = params or {}\n",
    "    def request_format(self):\n",
    "        return {\"query_id\": self.query_id, \"query_parameters\": self._params}"
   ]
  },
  {
   "cell_type": "code",
   "execution_count": null,
   "id": "62356931",
   "metadata": {
    "lines_to_next_cell": 1
   },
   "outputs": [],
   "source": [
    "def run_with_fallbacks(client: DuneClient, query: SimpleQuery, perf_order):\n",
    "    last_err = None\n",
    "    for perf in perf_order:\n",
    "        try:\n",
    "            df = client.run_query_dataframe(query, performance=perf)\n",
    "            print(f\"[INFO] Executed query {query.query_id} on '{perf}' tier\")\n",
    "            return df\n",
    "        except DuneError as e:\n",
    "            # Try to show the underlying payload\n",
    "            payload = getattr(e, \"payload\", None)\n",
    "            print(f\"[WARN] Tier '{perf}' failed with DuneError payload: {payload}\", file=sys.stderr)\n",
    "            last_err = e\n",
    "        except TypeError:\n",
    "            try:\n",
    "                df = client.run_query_dataframe(query)\n",
    "                print(f\"[INFO] Executed query {query.query_id} (no perf kw)\")\n",
    "                return df\n",
    "            except Exception as e2:\n",
    "                last_err = e2\n",
    "    if last_err:\n",
    "        raise last_err\n",
    "    raise RuntimeError(\"Failed to execute query with provided tiers\")"
   ]
  },
  {
   "cell_type": "code",
   "execution_count": null,
   "id": "befbeb36",
   "metadata": {
    "lines_to_next_cell": 1
   },
   "outputs": [],
   "source": [
    "def main():\n",
    "    ap = argparse.ArgumentParser()\n",
    "    ap.add_argument(\"--query-id\", type=int, required=True)\n",
    "    ap.add_argument(\"--out\", required=True)\n",
    "    ap.add_argument(\"--performance\", default=\"medium\")\n",
    "    ap.add_argument(\"--param\", action=\"append\", help=\"key=value (repeatable)\")\n",
    "    args = ap.parse_args()\n",
    "\n",
    "    api_key = os.getenv(\"DUNE_API_KEY\")\n",
    "    if not api_key:\n",
    "        print(\"DUNE_API_KEY env var missing\", file=sys.stderr); sys.exit(2)\n",
    "\n",
    "    dune = DuneClient(api_key=api_key)\n",
    "    params = parse_params(args.param)\n",
    "    query = SimpleQuery(args.query_id, params)\n",
    "\n",
    "    perf_order = []\n",
    "    for p in (args.performance, \"medium\", \"small\"):\n",
    "        if p not in perf_order:\n",
    "            perf_order.append(p)\n",
    "\n",
    "    df = run_with_fallbacks(dune, query, perf_order)\n",
    "\n",
    "    out = Path(args.out)\n",
    "    out.parent.mkdir(parents=True, exist_ok=True)\n",
    "\n",
    "    for col in (\"ts\", \"ts_block\", \"first_ts\"):\n",
    "        if col in df.columns:\n",
    "            df[col] = pd.to_datetime(df[col], utc=True, errors=\"coerce\")\n",
    "\n",
    "    df.to_parquet(out, index=False)\n",
    "    print(f\"Saved {out} rows={len(df)} cols={len(df.columns)}\")"
   ]
  },
  {
   "cell_type": "code",
   "execution_count": null,
   "id": "44955614",
   "metadata": {},
   "outputs": [],
   "source": [
    "if __name__ == \"__main__\":\n",
    "    main()"
   ]
  }
 ],
 "metadata": {
  "jupytext": {
   "cell_metadata_filter": "-all",
   "main_language": "python",
   "notebook_metadata_filter": "jupytext,text_representation,kernelspec"
  }
 },
 "nbformat": 4,
 "nbformat_minor": 5
}
