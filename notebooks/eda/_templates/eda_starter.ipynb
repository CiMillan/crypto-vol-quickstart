{
 "cells": [
  {
   "cell_type": "markdown",
   "id": "b2381c07",
   "metadata": {
    "lines_to_next_cell": 0
   },
   "source": [
    "## Plot defaults (project-wide)\n",
    "This cell ensures consistent Matplotlib styling and date axes."
   ]
  },
  {
   "cell_type": "code",
   "execution_count": null,
   "id": "b1069c6d",
   "metadata": {},
   "outputs": [],
   "source": [
    "# Make 'configs' importable from notebooks (.ipynb or .py)\n",
    "import sys, os\n",
    "from pathlib import Path\n",
    "try:\n",
    "    HERE = Path(__file__).parent\n",
    "except NameError:\n",
    "    HERE = Path.cwd()\n",
    "ROOT = (HERE / \"../../..\").resolve()\n",
    "if str(ROOT) not in sys.path:\n",
    "    sys.path.append(str(ROOT))\n",
    "from configs.plots.mpl_defaults import use_mpl_defaults, format_date_axis\n",
    "use_mpl_defaults()\n",
    "\n",
    "# ---\n",
    "# jupyter:\n",
    "#   jupytext:\n",
    "#     cell_metadata_filter: -all\n",
    "#     notebook_metadata_filter: jupytext,text_representation,kernelspec\n",
    "#     text_representation:\n",
    "#       extension: .py\n",
    "#       format_name: percent\n",
    "#       format_version: '1.3'\n",
    "#       jupytext_version: 1.17.3\n",
    "#   kernelspec:\n",
    "#     display_name: Python 3.11 (.venv)\n",
    "#     language: python\n",
    "#     name: crypto-vol-quickstart-311\n",
    "# ---"
   ]
  },
  {
   "cell_type": "markdown",
   "id": "5a2aa1ed",
   "metadata": {},
   "source": [
    "# EDA Starter Notebook\n",
    "Quick checks to get familiar with the dataset structure and basic return/volatility views."
   ]
  },
  {
   "cell_type": "code",
   "execution_count": 3,
   "id": "853d6758-efee-4954-b32f-f933cf428890",
   "metadata": {},
   "outputs": [
    {
     "name": "stdout",
     "output_type": "stream",
     "text": [
      "Requirement already satisfied: jupytext in /Users/cintiamillan/Desktop/crypto-vol-quickstart/.venv/lib/python3.11/site-packages (1.17.3)\n",
      "Requirement already satisfied: markdown-it-py>=1.0 in /Users/cintiamillan/Desktop/crypto-vol-quickstart/.venv/lib/python3.11/site-packages (from jupytext) (4.0.0)\n",
      "Requirement already satisfied: mdit-py-plugins in /Users/cintiamillan/Desktop/crypto-vol-quickstart/.venv/lib/python3.11/site-packages (from jupytext) (0.5.0)\n",
      "Requirement already satisfied: nbformat in /Users/cintiamillan/Desktop/crypto-vol-quickstart/.venv/lib/python3.11/site-packages (from jupytext) (5.10.4)\n",
      "Requirement already satisfied: packaging in /Users/cintiamillan/Desktop/crypto-vol-quickstart/.venv/lib/python3.11/site-packages (from jupytext) (25.0)\n",
      "Requirement already satisfied: pyyaml in /Users/cintiamillan/Desktop/crypto-vol-quickstart/.venv/lib/python3.11/site-packages (from jupytext) (6.0.2)\n",
      "Requirement already satisfied: mdurl~=0.1 in /Users/cintiamillan/Desktop/crypto-vol-quickstart/.venv/lib/python3.11/site-packages (from markdown-it-py>=1.0->jupytext) (0.1.2)\n",
      "Requirement already satisfied: fastjsonschema>=2.15 in /Users/cintiamillan/Desktop/crypto-vol-quickstart/.venv/lib/python3.11/site-packages (from nbformat->jupytext) (2.21.2)\n",
      "Requirement already satisfied: jsonschema>=2.6 in /Users/cintiamillan/Desktop/crypto-vol-quickstart/.venv/lib/python3.11/site-packages (from nbformat->jupytext) (4.25.1)\n",
      "Requirement already satisfied: jupyter-core!=5.0.*,>=4.12 in /Users/cintiamillan/Desktop/crypto-vol-quickstart/.venv/lib/python3.11/site-packages (from nbformat->jupytext) (5.8.1)\n",
      "Requirement already satisfied: traitlets>=5.1 in /Users/cintiamillan/Desktop/crypto-vol-quickstart/.venv/lib/python3.11/site-packages (from nbformat->jupytext) (5.14.3)\n",
      "Requirement already satisfied: attrs>=22.2.0 in /Users/cintiamillan/Desktop/crypto-vol-quickstart/.venv/lib/python3.11/site-packages (from jsonschema>=2.6->nbformat->jupytext) (25.3.0)\n",
      "Requirement already satisfied: jsonschema-specifications>=2023.03.6 in /Users/cintiamillan/Desktop/crypto-vol-quickstart/.venv/lib/python3.11/site-packages (from jsonschema>=2.6->nbformat->jupytext) (2025.9.1)\n",
      "Requirement already satisfied: referencing>=0.28.4 in /Users/cintiamillan/Desktop/crypto-vol-quickstart/.venv/lib/python3.11/site-packages (from jsonschema>=2.6->nbformat->jupytext) (0.36.2)\n",
      "Requirement already satisfied: rpds-py>=0.7.1 in /Users/cintiamillan/Desktop/crypto-vol-quickstart/.venv/lib/python3.11/site-packages (from jsonschema>=2.6->nbformat->jupytext) (0.27.1)\n",
      "Requirement already satisfied: platformdirs>=2.5 in /Users/cintiamillan/Desktop/crypto-vol-quickstart/.venv/lib/python3.11/site-packages (from jupyter-core!=5.0.*,>=4.12->nbformat->jupytext) (4.4.0)\n",
      "Requirement already satisfied: typing-extensions>=4.4.0 in /Users/cintiamillan/Desktop/crypto-vol-quickstart/.venv/lib/python3.11/site-packages (from referencing>=0.28.4->jsonschema>=2.6->nbformat->jupytext) (4.15.0)\n",
      "Note: you may need to restart the kernel to use updated packages.\n"
     ]
    }
   ],
   "source": [
    "pip install jupytext"
   ]
  },
  {
   "cell_type": "markdown",
   "id": "e7304c72-4273-490b-a533-81d86354dcb4",
   "metadata": {},
   "source": [
    "hello world"
   ]
  },
  {
   "cell_type": "code",
   "execution_count": 1,
   "id": "738fb4ad",
   "metadata": {},
   "outputs": [
    {
     "ename": "NameError",
     "evalue": "name '__file__' is not defined",
     "output_type": "error",
     "traceback": [
      "\u001b[31m---------------------------------------------------------------------------\u001b[39m",
      "\u001b[31mNameError\u001b[39m                                 Traceback (most recent call last)",
      "\u001b[36mCell\u001b[39m\u001b[36m \u001b[39m\u001b[32mIn[1]\u001b[39m\u001b[32m, line 7\u001b[39m\n\u001b[32m      4\u001b[39m \u001b[38;5;28;01mimport\u001b[39;00m\u001b[38;5;250m \u001b[39m\u001b[34;01mmatplotlib\u001b[39;00m\u001b[34;01m.\u001b[39;00m\u001b[34;01mpyplot\u001b[39;00m\u001b[38;5;250m \u001b[39m\u001b[38;5;28;01mas\u001b[39;00m\u001b[38;5;250m \u001b[39m\u001b[34;01mplt\u001b[39;00m\n\u001b[32m      6\u001b[39m \u001b[38;5;66;03m# project paths\u001b[39;00m\n\u001b[32m----> \u001b[39m\u001b[32m7\u001b[39m ROOT = os.path.abspath(os.path.join(os.path.dirname(\u001b[34;43m__file__\u001b[39;49m), \u001b[33m\"\u001b[39m\u001b[33m../../..\u001b[39m\u001b[33m\"\u001b[39m))\n\u001b[32m      8\u001b[39m DATA_RAW = os.path.join(ROOT, \u001b[33m\"\u001b[39m\u001b[33mdata\u001b[39m\u001b[33m\"\u001b[39m, \u001b[33m\"\u001b[39m\u001b[33mraw\u001b[39m\u001b[33m\"\u001b[39m)\n\u001b[32m      9\u001b[39m DATA_INTERIM = os.path.join(ROOT, \u001b[33m\"\u001b[39m\u001b[33mdata\u001b[39m\u001b[33m\"\u001b[39m, \u001b[33m\"\u001b[39m\u001b[33minterim\u001b[39m\u001b[33m\"\u001b[39m)\n",
      "\u001b[31mNameError\u001b[39m: name '__file__' is not defined"
     ]
    }
   ],
   "source": [
    "import os, math\n",
    "import pandas as pd\n",
    "import numpy as np\n",
    "import matplotlib.pyplot as plt\n",
    "\n",
    "# project paths\n",
    "ROOT = os.path.abspath(os.path.join(os.path.dirname(__file__), \"../../..\"))\n",
    "DATA_RAW = os.path.join(ROOT, \"data\", \"raw\")\n",
    "DATA_INTERIM = os.path.join(ROOT, \"data\", \"interim\")\n",
    "DATA_PROCESSED = os.path.join(ROOT, \"data\", \"processed\")\n",
    "REPORT_FIGS = os.path.join(ROOT, \"reports\", \"figures\")\n",
    "\n",
    "os.makedirs(REPORT_FIGS, exist_ok=True)"
   ]
  },
  {
   "cell_type": "markdown",
   "id": "3e1f0e4d",
   "metadata": {},
   "source": [
    "## 1) Load a sample file\n",
    "Drop a CSV/Parquet into `data/raw/` (e.g., OHLCV for BTC/ETH).\n",
    "Expected columns: timestamp, open, high, low, close, volume"
   ]
  },
  {
   "cell_type": "code",
   "execution_count": 2,
   "id": "9921e03a",
   "metadata": {},
   "outputs": [
    {
     "ename": "NameError",
     "evalue": "name 'DATA_RAW' is not defined",
     "output_type": "error",
     "traceback": [
      "\u001b[31m---------------------------------------------------------------------------\u001b[39m",
      "\u001b[31mNameError\u001b[39m                                 Traceback (most recent call last)",
      "\u001b[36mCell\u001b[39m\u001b[36m \u001b[39m\u001b[32mIn[2]\u001b[39m\u001b[32m, line 2\u001b[39m\n\u001b[32m      1\u001b[39m \u001b[38;5;66;03m# Example: auto-pick first CSV in data/raw\u001b[39;00m\n\u001b[32m----> \u001b[39m\u001b[32m2\u001b[39m candidates = [f \u001b[38;5;28;01mfor\u001b[39;00m f \u001b[38;5;129;01min\u001b[39;00m os.listdir(\u001b[43mDATA_RAW\u001b[49m) \u001b[38;5;28;01mif\u001b[39;00m f.lower().endswith((\u001b[33m\"\u001b[39m\u001b[33m.csv\u001b[39m\u001b[33m\"\u001b[39m,\u001b[33m\"\u001b[39m\u001b[33m.parquet\u001b[39m\u001b[33m\"\u001b[39m))]\n\u001b[32m      3\u001b[39m \u001b[38;5;28;01mif\u001b[39;00m \u001b[38;5;129;01mnot\u001b[39;00m candidates:\n\u001b[32m      4\u001b[39m     \u001b[38;5;28;01mraise\u001b[39;00m \u001b[38;5;167;01mFileNotFoundError\u001b[39;00m(\u001b[33m\"\u001b[39m\u001b[33mNo CSV or Parquet found in data/raw. Drop a file first.\u001b[39m\u001b[33m\"\u001b[39m)\n",
      "\u001b[31mNameError\u001b[39m: name 'DATA_RAW' is not defined"
     ]
    }
   ],
   "source": [
    "# Example: auto-pick first CSV in data/raw\n",
    "candidates = [f for f in os.listdir(DATA_RAW) if f.lower().endswith((\".csv\",\".parquet\"))]\n",
    "if not candidates:\n",
    "    raise FileNotFoundError(\"No CSV or Parquet found in data/raw. Drop a file first.\")\n",
    "\n",
    "path = os.path.join(DATA_RAW, candidates[0])\n",
    "if path.endswith(\".csv\"):\n",
    "    df = pd.read_csv(path, parse_dates=[\"timestamp\"])\n",
    "else:\n",
    "    df = pd.read_parquet(path)\n",
    "\n",
    "df = df.sort_values(\"timestamp\").reset_index(drop=True)\n",
    "df.head()"
   ]
  },
  {
   "cell_type": "markdown",
   "id": "1c28fb47",
   "metadata": {},
   "source": [
    "## 2) Basic health checks"
   ]
  },
  {
   "cell_type": "code",
   "execution_count": null,
   "id": "f0463465",
   "metadata": {},
   "outputs": [],
   "source": [
    "summary = {\n",
    "    \"n_rows\": len(df),\n",
    "    \"n_cols\": df.shape[1],\n",
    "    \"time_span\": [df[\"timestamp\"].min(), df[\"timestamp\"].max()],\n",
    "    \"null_counts\": df.isna().sum().to_dict(),\n",
    "    \"dtypes\": df.dtypes.astype(str).to_dict(),\n",
    "    \"duplicates\": int(df.duplicated(subset=[\"timestamp\"]).sum()),\n",
    "}\n",
    "summary"
   ]
  },
  {
   "cell_type": "markdown",
   "id": "e15ce492",
   "metadata": {},
   "source": [
    "## 3) Compute returns & rolling volatility proxy"
   ]
  },
  {
   "cell_type": "code",
   "execution_count": null,
   "id": "608f13ee",
   "metadata": {},
   "outputs": [],
   "source": [
    "df[\"ret\"] = df[\"close\"].pct_change()\n",
    "window = 30\n",
    "ann_factor = math.sqrt(365)\n",
    "df[\"vol_30d\"] = df[\"ret\"].rolling(window).std() * ann_factor\n",
    "df[[\"timestamp\",\"close\",\"ret\",\"vol_30d\"]].tail()"
   ]
  },
  {
   "cell_type": "markdown",
   "id": "da45fd10",
   "metadata": {},
   "source": [
    "## 4) Quick plots"
   ]
  },
  {
   "cell_type": "code",
   "execution_count": null,
   "id": "03d457ff",
   "metadata": {},
   "outputs": [],
   "source": [
    "plt.figure(figsize=(10,4))\n",
    "plt.plot(df[\"timestamp\"], df[\"close\"])\n",
    "plt.title(\"Price\"); plt.xlabel(\"Time\"); plt.ylabel(\"Close\")\n",
    "plt.tight_layout()\n",
    "plt.savefig(os.path.join(REPORT_FIGS, \"price.png\"))\n",
    "\n",
    "plt.figure(figsize=(10,4))\n",
    "plt.plot(df[\"timestamp\"], df[\"ret\"])\n",
    "plt.title(\"Returns\"); plt.xlabel(\"Time\"); plt.ylabel(\"Return\")\n",
    "plt.tight_layout()\n",
    "plt.savefig(os.path.join(REPORT_FIGS, \"returns.png\"))\n",
    "\n",
    "plt.figure(figsize=(10,4))\n",
    "plt.plot(df[\"timestamp\"], df[\"vol_30d\"])\n",
    "plt.title(\"Rolling Volatility (30d, annualized)\")\n",
    "plt.xlabel(\"Time\"); plt.ylabel(\"Vol\")\n",
    "plt.tight_layout()\n",
    "plt.savefig(os.path.join(REPORT_FIGS, \"vol_30d.png\"))"
   ]
  },
  {
   "cell_type": "markdown",
   "id": "1061c153",
   "metadata": {},
   "source": [
    "## 5) Save interim snapshot"
   ]
  },
  {
   "cell_type": "code",
   "execution_count": null,
   "id": "d572cdb0",
   "metadata": {},
   "outputs": [],
   "source": [
    "df.to_parquet(os.path.join(DATA_INTERIM, \"sample_with_returns.parquet\"), index=False)\n",
    "print(\"Saved interim snapshot to data/interim/sample_with_returns.parquet\")"
   ]
  }
 ],
 "metadata": {
  "jupytext": {
   "cell_metadata_filter": "-all",
   "notebook_metadata_filter": "jupytext,text_representation,kernelspec"
  },
  "kernelspec": {
   "display_name": "Python 3.11 (.venv)",
   "language": "python",
   "name": "crypto-vol-quickstart-311"
  },
  "language_info": {
   "codemirror_mode": {
    "name": "ipython",
    "version": 3
   },
   "file_extension": ".py",
   "mimetype": "text/x-python",
   "name": "python",
   "nbconvert_exporter": "python",
   "pygments_lexer": "ipython3",
   "version": "3.11.13"
  }
 },
 "nbformat": 4,
 "nbformat_minor": 5
}
