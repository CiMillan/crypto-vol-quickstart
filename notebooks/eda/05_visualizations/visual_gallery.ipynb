{
 "cells": [
  {
   "cell_type": "markdown",
   "id": "052af631",
   "metadata": {
    "lines_to_next_cell": 0
   },
   "source": [
    "## Plot defaults (project-wide)\n",
    "This cell ensures consistent Matplotlib styling and date axes."
   ]
  },
  {
   "cell_type": "code",
   "execution_count": null,
   "id": "901e36a3",
   "metadata": {},
   "outputs": [],
   "source": [
    "# Make 'configs' importable from notebooks (.ipynb or .py)\n",
    "import sys, os\n",
    "from pathlib import Path\n",
    "try:\n",
    "    HERE = Path(__file__).parent\n",
    "except NameError:\n",
    "    HERE = Path.cwd()\n",
    "ROOT = (HERE / \"../../..\").resolve()\n",
    "if str(ROOT) not in sys.path:\n",
    "    sys.path.append(str(ROOT))\n",
    "from configs.plots.mpl_defaults import use_mpl_defaults, format_date_axis\n",
    "use_mpl_defaults()\n",
    "\n",
    "# ---\n",
    "# jupyter:\n",
    "#   jupytext:\n",
    "#     cell_metadata_filter: -all\n",
    "#     formats: ipynb,py:percent\n",
    "#     notebook_metadata_filter: jupytext,text_representation,kernelspec\n",
    "#     text_representation:\n",
    "#       extension: .py\n",
    "#       format_name: percent\n",
    "#       format_version: '1.3'\n",
    "#       jupytext_version: 1.17.3\n",
    "# ---"
   ]
  },
  {
   "cell_type": "markdown",
   "id": "cecebdb4",
   "metadata": {},
   "source": [
    "# Visualization Gallery\n",
    "Common charts to explore a new asset quickly:\n",
    "- Price & returns\n",
    "- Bollinger bands (20-period)\n",
    "- Rolling volatility (annualized)\n",
    "- Rolling Sharpe (annualized)\n",
    "- Drawdowns\n",
    "- Return autocorrelation (ACF)\n",
    "- Return distribution (hist + normal overlay)"
   ]
  },
  {
   "cell_type": "code",
   "execution_count": null,
   "id": "f26d06de",
   "metadata": {},
   "outputs": [],
   "source": [
    "import os, math\n",
    "import numpy as np\n",
    "import pandas as pd\n",
    "import matplotlib.pyplot as plt\n",
    "from scipy.stats import norm\n",
    "\n",
    "ROOT = os.path.abspath(os.path.join(os.path.dirname(__file__), \"../../..\"))\n",
    "DATA_RAW = os.path.join(ROOT, \"data\", \"raw\")\n",
    "REPORT_FIGS = os.path.join(ROOT, \"reports\", \"figures\")\n",
    "os.makedirs(REPORT_FIGS, exist_ok=True)"
   ]
  },
  {
   "cell_type": "markdown",
   "id": "8b736b2e",
   "metadata": {},
   "source": [
    "## 1) Load OHLCV (CSV/Parquet) from `data/raw/`\n",
    "Expected columns: `timestamp`, `close` (others optional)"
   ]
  },
  {
   "cell_type": "code",
   "execution_count": null,
   "id": "7d9dec53",
   "metadata": {},
   "outputs": [],
   "source": [
    "files = [f for f in os.listdir(DATA_RAW) if f.lower().endswith((\".csv\",\".parquet\"))]\n",
    "if not files:\n",
    "    raise FileNotFoundError(\"No CSV/Parquet in data/raw. Drop OHLCV first.\")\n",
    "path = os.path.join(DATA_RAW, sorted(files)[0])\n",
    "if path.endswith(\".csv\"):\n",
    "    df = pd.read_csv(path, parse_dates=[\"timestamp\"])\n",
    "else:\n",
    "    df = pd.read_parquet(path)\n",
    "df = df.sort_values(\"timestamp\").reset_index(drop=True)\n",
    "if \"close\" not in df.columns:\n",
    "    raise ValueError(\"Column 'close' not found.\")\n",
    "\n",
    "# Ensure tz-naive timestamps\n",
    "df[\"timestamp\"] = pd.to_datetime(df[\"timestamp\"], utc=False)"
   ]
  },
  {
   "cell_type": "markdown",
   "id": "67c2c989",
   "metadata": {},
   "source": [
    "## 2) Basic returns & annualization helper"
   ]
  },
  {
   "cell_type": "code",
   "execution_count": null,
   "id": "e90fa03b",
   "metadata": {},
   "outputs": [],
   "source": [
    "# Log returns at native sampling\n",
    "df[\"logret\"] = np.log(df[\"close\"]).diff()\n",
    "\n",
    "# Infer periods-per-year from median sampling interval\n",
    "dts = df[\"timestamp\"].diff().dt.total_seconds()\n",
    "median_sec = float(dts.dropna().median()) if dts.notna().any() else 60.0\n",
    "sec_per_year = 365 * 24 * 3600\n",
    "periods_per_year = max(1.0, sec_per_year / max(1.0, median_sec))\n",
    "ann_sqrt = math.sqrt(periods_per_year)\n",
    "\n",
    "# Windows ~ 1 week & 1 month in native periods\n",
    "win_week = max(5, int(periods_per_year / 52))\n",
    "win_month = max(20, int(periods_per_year / 12))"
   ]
  },
  {
   "cell_type": "markdown",
   "id": "07938488",
   "metadata": {},
   "source": [
    "## 3) Price"
   ]
  },
  {
   "cell_type": "code",
   "execution_count": null,
   "id": "912917de",
   "metadata": {},
   "outputs": [],
   "source": [
    "plt.figure(figsize=(11,4))\n",
    "plt.plot(df[\"timestamp\"], df[\"close\"])\n",
    "plt.title(\"Price\")\n",
    "plt.xlabel(\"Time\"); plt.ylabel(\"Close\")\n",
    "plt.tight_layout()\n",
    "plt.savefig(os.path.join(REPORT_FIGS, \"viz_price.png\"))"
   ]
  },
  {
   "cell_type": "markdown",
   "id": "eb3588c4",
   "metadata": {},
   "source": [
    "## 4) Returns (log)"
   ]
  },
  {
   "cell_type": "code",
   "execution_count": null,
   "id": "0a169d3a",
   "metadata": {},
   "outputs": [],
   "source": [
    "plt.figure(figsize=(11,3.5))\n",
    "plt.plot(df[\"timestamp\"], df[\"logret\"])\n",
    "plt.title(\"Log Returns\")\n",
    "plt.xlabel(\"Time\"); plt.ylabel(\"logret\")\n",
    "plt.tight_layout()\n",
    "plt.savefig(os.path.join(REPORT_FIGS, \"viz_returns.png\"))"
   ]
  },
  {
   "cell_type": "markdown",
   "id": "84c137eb",
   "metadata": {},
   "source": [
    "## 5) Bollinger Bands (20-period on price)"
   ]
  },
  {
   "cell_type": "code",
   "execution_count": null,
   "id": "00f0b33e",
   "metadata": {},
   "outputs": [],
   "source": [
    "period = 20\n",
    "ma = df[\"close\"].rolling(period).mean()\n",
    "sd = df[\"close\"].rolling(period).std()\n",
    "upper = ma + 2 * sd\n",
    "lower = ma - 2 * sd\n",
    "\n",
    "plt.figure(figsize=(11,4))\n",
    "plt.plot(df[\"timestamp\"], df[\"close\"], label=\"Close\")\n",
    "plt.plot(df[\"timestamp\"], ma, label=f\"MA{period}\")\n",
    "plt.plot(df[\"timestamp\"], upper, label=\"Upper\")\n",
    "plt.plot(df[\"timestamp\"], lower, label=\"Lower\")\n",
    "plt.title(\"Bollinger Bands\")\n",
    "plt.xlabel(\"Time\"); plt.ylabel(\"Price\")\n",
    "plt.legend()\n",
    "plt.tight_layout()\n",
    "plt.savefig(os.path.join(REPORT_FIGS, \"viz_bollinger.png\"))"
   ]
  },
  {
   "cell_type": "markdown",
   "id": "c9aad5e3",
   "metadata": {},
   "source": [
    "## 6) Rolling Volatility (annualized) on returns"
   ]
  },
  {
   "cell_type": "code",
   "execution_count": null,
   "id": "43c1ab5e",
   "metadata": {},
   "outputs": [],
   "source": [
    "roll = df[\"logret\"].rolling(win_month).std() * ann_sqrt\n",
    "plt.figure(figsize=(11,3.5))\n",
    "plt.plot(df[\"timestamp\"], roll)\n",
    "plt.title(f\"Rolling Volatility (~1m window, annualized), window={win_month}\")\n",
    "plt.xlabel(\"Time\"); plt.ylabel(\"Vol (ann)\")\n",
    "plt.tight_layout()\n",
    "plt.savefig(os.path.join(REPORT_FIGS, \"viz_rolling_vol.png\"))"
   ]
  },
  {
   "cell_type": "markdown",
   "id": "4898e208",
   "metadata": {},
   "source": [
    "## 7) Rolling Sharpe (mean/std * sqrt(periods/year), rf=0)"
   ]
  },
  {
   "cell_type": "code",
   "execution_count": null,
   "id": "d60a912b",
   "metadata": {},
   "outputs": [],
   "source": [
    "ret_mean = df[\"logret\"].rolling(win_month).mean()\n",
    "ret_std = df[\"logret\"].rolling(win_month).std()\n",
    "rolling_sharpe = (ret_mean / ret_std) * ann_sqrt\n",
    "\n",
    "plt.figure(figsize=(11,3.5))\n",
    "plt.plot(df[\"timestamp\"], rolling_sharpe)\n",
    "plt.axhline(0, linestyle=\"--\")\n",
    "plt.title(f\"Rolling Sharpe (rf=0), window={win_month}\")\n",
    "plt.xlabel(\"Time\"); plt.ylabel(\"Sharpe (ann)\")\n",
    "plt.tight_layout()\n",
    "plt.savefig(os.path.join(REPORT_FIGS, \"viz_rolling_sharpe.png\"))"
   ]
  },
  {
   "cell_type": "markdown",
   "id": "6bb0db11",
   "metadata": {},
   "source": [
    "## 8) Drawdowns (from cumulative log returns)"
   ]
  },
  {
   "cell_type": "code",
   "execution_count": null,
   "id": "21ecad1c",
   "metadata": {},
   "outputs": [],
   "source": [
    "cum_logret = df[\"logret\"].fillna(0).cumsum()\n",
    "eq = np.exp(cum_logret)  # equity curve (normalized)\n",
    "rolling_max = np.maximum.accumulate(eq)\n",
    "drawdown = eq / rolling_max - 1.0\n",
    "\n",
    "plt.figure(figsize=(11,3.5))\n",
    "plt.plot(df[\"timestamp\"], drawdown)\n",
    "plt.title(\"Drawdown\")\n",
    "plt.xlabel(\"Time\"); plt.ylabel(\"Drawdown\")\n",
    "plt.tight_layout()\n",
    "plt.savefig(os.path.join(REPORT_FIGS, \"viz_drawdown.png\"))"
   ]
  },
  {
   "cell_type": "markdown",
   "id": "d05b60c8",
   "metadata": {},
   "source": [
    "## 9) Return ACF (first 50 lags)"
   ]
  },
  {
   "cell_type": "code",
   "execution_count": null,
   "id": "ed264ddf",
   "metadata": {},
   "outputs": [],
   "source": [
    "lags = 50\n",
    "acf_vals = [df[\"logret\"].autocorr(lag=i) for i in range(lags+1)]\n",
    "plt.figure(figsize=(10,3.5))\n",
    "markerline, stemlines, baseline = plt.stem(range(lags+1), acf_vals, use_line_collection=True)\n",
    "plt.title(\"ACF of Log Returns\")\n",
    "plt.xlabel(\"Lag\"); plt.ylabel(\"Autocorr\")\n",
    "plt.tight_layout()\n",
    "plt.savefig(os.path.join(REPORT_FIGS, \"viz_returns_acf.png\"))"
   ]
  },
  {
   "cell_type": "markdown",
   "id": "3168e405",
   "metadata": {},
   "source": [
    "## 10) Return distribution (hist + normal overlay)"
   ]
  },
  {
   "cell_type": "code",
   "execution_count": null,
   "id": "1ef1a93f",
   "metadata": {},
   "outputs": [],
   "source": [
    "rets = df[\"logret\"].dropna()\n",
    "mu, sd = rets.mean(), rets.std()\n",
    "\n",
    "plt.figure(figsize=(8,4))\n",
    "# Histogram\n",
    "n, bins, _ = plt.hist(rets, bins=80, density=True, alpha=0.6)\n",
    "# Normal overlay\n",
    "x = np.linspace(rets.quantile(0.001), rets.quantile(0.999), 400)\n",
    "pdf = norm.pdf(x, mu, sd if sd > 0 else 1e-9)\n",
    "plt.plot(x, pdf)\n",
    "plt.title(\"Return Distribution (with Normal overlay)\")\n",
    "plt.xlabel(\"logret\"); plt.ylabel(\"density\")\n",
    "plt.tight_layout()\n",
    "plt.savefig(os.path.join(REPORT_FIGS, \"viz_return_hist.png\"))\n",
    "\n",
    "print(\"Figures saved to:\", REPORT_FIGS)"
   ]
  }
 ],
 "metadata": {
  "jupytext": {
   "cell_metadata_filter": "-all",
   "formats": "ipynb,py:percent",
   "main_language": "python",
   "notebook_metadata_filter": "jupytext,text_representation,kernelspec"
  }
 },
 "nbformat": 4,
 "nbformat_minor": 5
}
