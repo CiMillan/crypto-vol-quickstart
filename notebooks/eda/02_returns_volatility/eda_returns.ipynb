{
 "cells": [
  {
   "cell_type": "markdown",
   "id": "f6987c07",
   "metadata": {
    "lines_to_next_cell": 0
   },
   "source": [
    "## Plot defaults (project-wide)\n",
    "This cell ensures consistent Matplotlib styling and date axes."
   ]
  },
  {
   "cell_type": "code",
   "execution_count": null,
   "id": "0bd1f289",
   "metadata": {},
   "outputs": [],
   "source": [
    "# Make 'configs' importable from notebooks (.ipynb or .py)\n",
    "import sys, os\n",
    "from pathlib import Path\n",
    "try:\n",
    "    HERE = Path(__file__).parent\n",
    "except NameError:\n",
    "    HERE = Path.cwd()\n",
    "ROOT = (HERE / \"../../..\").resolve()\n",
    "if str(ROOT) not in sys.path:\n",
    "    sys.path.append(str(ROOT))\n",
    "from configs.plots.mpl_defaults import use_mpl_defaults, format_date_axis\n",
    "use_mpl_defaults()\n",
    "\n",
    "# ---\n",
    "# jupyter:\n",
    "#   jupytext:\n",
    "#     cell_metadata_filter: -all\n",
    "#     formats: ipynb,py:percent\n",
    "#     notebook_metadata_filter: jupytext,text_representation,kernelspec\n",
    "#     text_representation:\n",
    "#       extension: .py\n",
    "#       format_name: percent\n",
    "#       format_version: '1.3'\n",
    "#       jupytext_version: 1.17.3\n",
    "# ---"
   ]
  },
  {
   "cell_type": "markdown",
   "id": "61ab07f6",
   "metadata": {},
   "source": [
    "# EDA Starter Notebook\n",
    "Quick checks to get familiar with the dataset structure and basic return/volatility views."
   ]
  },
  {
   "cell_type": "code",
   "execution_count": null,
   "id": "dc0f3e3f",
   "metadata": {},
   "outputs": [],
   "source": [
    "import os, math\n",
    "import pandas as pd\n",
    "import numpy as np\n",
    "import matplotlib.pyplot as plt\n",
    "\n",
    "# project paths\n",
    "ROOT = os.path.abspath(os.path.join(os.path.dirname(__file__), \"../../..\"))\n",
    "DATA_RAW = os.path.join(ROOT, \"data\", \"raw\")\n",
    "DATA_INTERIM = os.path.join(ROOT, \"data\", \"interim\")\n",
    "DATA_PROCESSED = os.path.join(ROOT, \"data\", \"processed\")\n",
    "REPORT_FIGS = os.path.join(ROOT, \"reports\", \"figures\")\n",
    "\n",
    "os.makedirs(REPORT_FIGS, exist_ok=True)"
   ]
  },
  {
   "cell_type": "markdown",
   "id": "8a41e969",
   "metadata": {},
   "source": [
    "## 1) Load a sample file\n",
    "Drop a CSV/Parquet into `data/raw/` (e.g., OHLCV for BTC/ETH).\n",
    "Expected columns: timestamp, open, high, low, close, volume"
   ]
  },
  {
   "cell_type": "code",
   "execution_count": null,
   "id": "27d0707c",
   "metadata": {},
   "outputs": [],
   "source": [
    "# Example: auto-pick first CSV in data/raw\n",
    "candidates = [f for f in os.listdir(DATA_RAW) if f.lower().endswith((\".csv\",\".parquet\"))]\n",
    "if not candidates:\n",
    "    raise FileNotFoundError(\"No CSV or Parquet found in data/raw. Drop a file first.\")\n",
    "\n",
    "path = os.path.join(DATA_RAW, candidates[0])\n",
    "if path.endswith(\".csv\"):\n",
    "    df = pd.read_csv(path, parse_dates=[\"timestamp\"])\n",
    "else:\n",
    "    df = pd.read_parquet(path)\n",
    "\n",
    "df = df.sort_values(\"timestamp\").reset_index(drop=True)\n",
    "df.head()"
   ]
  },
  {
   "cell_type": "markdown",
   "id": "83c89e50",
   "metadata": {},
   "source": [
    "## 2) Basic health checks"
   ]
  },
  {
   "cell_type": "code",
   "execution_count": null,
   "id": "a512659f",
   "metadata": {},
   "outputs": [],
   "source": [
    "summary = {\n",
    "    \"n_rows\": len(df),\n",
    "    \"n_cols\": df.shape[1],\n",
    "    \"time_span\": [df[\"timestamp\"].min(), df[\"timestamp\"].max()],\n",
    "    \"null_counts\": df.isna().sum().to_dict(),\n",
    "    \"dtypes\": df.dtypes.astype(str).to_dict(),\n",
    "    \"duplicates\": int(df.duplicated(subset=[\"timestamp\"]).sum()),\n",
    "}\n",
    "summary"
   ]
  },
  {
   "cell_type": "markdown",
   "id": "aaa2552f",
   "metadata": {},
   "source": [
    "## 3) Compute returns & rolling volatility proxy"
   ]
  },
  {
   "cell_type": "code",
   "execution_count": null,
   "id": "7ca58077",
   "metadata": {},
   "outputs": [],
   "source": [
    "df[\"ret\"] = df[\"close\"].pct_change()\n",
    "window = 30\n",
    "ann_factor = math.sqrt(365)\n",
    "df[\"vol_30d\"] = df[\"ret\"].rolling(window).std() * ann_factor\n",
    "df[[\"timestamp\",\"close\",\"ret\",\"vol_30d\"]].tail()"
   ]
  },
  {
   "cell_type": "markdown",
   "id": "7f7f9916",
   "metadata": {},
   "source": [
    "## 4) Quick plots"
   ]
  },
  {
   "cell_type": "code",
   "execution_count": null,
   "id": "3c07e2e3",
   "metadata": {},
   "outputs": [],
   "source": [
    "plt.figure(figsize=(10,4))\n",
    "plt.plot(df[\"timestamp\"], df[\"close\"])\n",
    "plt.title(\"Price\"); plt.xlabel(\"Time\"); plt.ylabel(\"Close\")\n",
    "plt.tight_layout()\n",
    "plt.savefig(os.path.join(REPORT_FIGS, \"price.png\"))\n",
    "\n",
    "plt.figure(figsize=(10,4))\n",
    "plt.plot(df[\"timestamp\"], df[\"ret\"])\n",
    "plt.title(\"Returns\"); plt.xlabel(\"Time\"); plt.ylabel(\"Return\")\n",
    "plt.tight_layout()\n",
    "plt.savefig(os.path.join(REPORT_FIGS, \"returns.png\"))\n",
    "\n",
    "plt.figure(figsize=(10,4))\n",
    "plt.plot(df[\"timestamp\"], df[\"vol_30d\"])\n",
    "plt.title(\"Rolling Volatility (30d, annualized)\")\n",
    "plt.xlabel(\"Time\"); plt.ylabel(\"Vol\")\n",
    "plt.tight_layout()\n",
    "plt.savefig(os.path.join(REPORT_FIGS, \"vol_30d.png\"))"
   ]
  },
  {
   "cell_type": "markdown",
   "id": "3a913036",
   "metadata": {},
   "source": [
    "## 5) Save interim snapshot"
   ]
  },
  {
   "cell_type": "code",
   "execution_count": null,
   "id": "6e2cb3cd",
   "metadata": {},
   "outputs": [],
   "source": [
    "df.to_parquet(os.path.join(DATA_INTERIM, \"sample_with_returns.parquet\"), index=False)\n",
    "print(\"Saved interim snapshot to data/interim/sample_with_returns.parquet\")"
   ]
  }
 ],
 "metadata": {
  "jupytext": {
   "cell_metadata_filter": "-all",
   "formats": "ipynb,py:percent",
   "main_language": "python",
   "notebook_metadata_filter": "jupytext,text_representation,kernelspec"
  }
 },
 "nbformat": 4,
 "nbformat_minor": 5
}
