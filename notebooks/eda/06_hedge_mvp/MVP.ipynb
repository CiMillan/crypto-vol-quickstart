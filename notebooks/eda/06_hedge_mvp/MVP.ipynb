{
 "cells": [
  {
   "cell_type": "markdown",
   "id": "a2127708-d4fa-47d7-a7d6-d18dd611bc35",
   "metadata": {},
   "source": [
    "1️⃣ **Core Idea**\n",
    "\n",
    "You will **trade spot BTC (or ETH)** and hedge it with **CME or Binance perpetual futures**.\n",
    "\n",
    "**Academic Side**: test hedge effectiveness across regimes, estimate optimal hedge ratios, compare static vs. ML-based dynamic hedges.\n",
    "\n",
    "**Practical Side**: deploy an automated pipeline that adjusts your futures hedge daily/hourly, based on your model’s volatility signals."
   ]
  },
  {
   "cell_type": "markdown",
   "id": "5837bac1-3883-437f-a252-f54dc66358d3",
   "metadata": {},
   "source": [
    "2️⃣ **Data Pipeline (via APIs)**\n",
    "\n",
    "You need **low-latency, historical + live data** from both spot and futures markets.\n",
    "\n",
    "**Binance (free & deep liquidity)**\n",
    "\n",
    "```ccxt``` Python library → pull **spot BTC/ETH** OHLCV data (1m/5m/daily).\n",
    "\n",
    "```ccxt``` also supports **perpetual futures** endpoints (funding rates, open interest, perp prices).\n",
    "\n",
    "Funding rates = signal for hedging pressure (research + trading feature).\n",
    "\n",
    "**CME Futures (research grade, not free real-time)**\n",
    "\n",
    "Historical data from Quandl/Nasdaq Data Link.\n",
    "\n",
    "For live trading: skip CME, focus on Binance perps first (they trade 24/7).\n",
    "\n",
    "**Implementation step:**"
   ]
  },
  {
   "cell_type": "code",
   "execution_count": null,
   "id": "efe86278-634e-4af8-9926-75ae8ce3b835",
   "metadata": {},
   "outputs": [],
   "source": [
    "pip install ccxt pandas numpy"
   ]
  },
  {
   "cell_type": "code",
   "execution_count": 2,
   "id": "053202db-34af-4cd9-898a-846c72881d83",
   "metadata": {},
   "outputs": [],
   "source": [
    "import ccxt\n",
    "import pandas as pd\n",
    "\n",
    "binance = ccxt.binance()\n",
    "# Spot BTC\n",
    "spot = binance.fetch_ohlcv('BTC/USDT', timeframe='1h', limit=1000)\n",
    "spot_df = pd.DataFrame(spot, columns=['ts','open','high','low','close','vol'])\n",
    "\n",
    "# Futures BTC-PERP\n",
    "fut = binance.fetch_ohlcv('BTC/USDT:USDT', timeframe='1h', limit=1000)\n",
    "fut_df = pd.DataFrame(fut, columns=['ts','open','high','low','close','vol'])"
   ]
  },
  {
   "cell_type": "markdown",
   "id": "7edd7e6e-79bd-4ec2-a5ae-4481ed065684",
   "metadata": {},
   "source": [
    "3️⃣ **Hedge Ratio Calculation**\n",
    "\n",
    "Optimal hedge ratio (OHR) = **minimizes variance of hedged portfolio**.\n",
    "\n",
    "Classic = **OLS regression**:"
   ]
  },
  {
   "cell_type": "markdown",
   "id": "bed73314-2cba-47a0-a88c-16698befa1ce",
   "metadata": {},
   "source": [
    "$$\n",
    "r_{t}^{\\text{spot}} \\;=\\; \\alpha \\;+\\; \\beta \\, r_{t}^{\\text{futures}} \\;+\\; \\epsilon_{t}\n",
    "$$\n"
   ]
  },
  {
   "cell_type": "markdown",
   "id": "0800bdfc-4be2-4c20-8f69-712476e00efe",
   "metadata": {},
   "source": [
    "- $r_{t}^{\\text{spot}}$: return of the asset you own (the “thing you’re protecting”).\n",
    "\n",
    "- $r_{t}^{\\text{futures}}$: return of the hedge instrument (like BTC futures).\n",
    "\n",
    "- $\\beta$: slope coefficient $\\;\\rightarrow\\;$ this is the hedge ratio.\n",
    "\n",
    "- $\\alpha$: intercept (often close to 0).\n",
    "\n",
    "- $\\epsilon_{t}$: leftover “noise” the hedge can’t explain.\n",
    "\n",
    "👉 The logic: if futures returns strongly move with spot returns, then a certain multiple of futures (𝛽) will “cancel out” the spot risk.\n",
    "\n",
    "\n",
    "Dynamic = **rolling regression** or **ML forecast-based ratio**.\n",
    "\n",
    "**Implementation step**:"
   ]
  },
  {
   "cell_type": "code",
   "execution_count": 7,
   "id": "01755b28-db20-4ce6-afc3-f719053fa408",
   "metadata": {},
   "outputs": [
    {
     "name": "stdout",
     "output_type": "stream",
     "text": [
      "Optimal hedge ratio: 0.9983689567092501\n"
     ]
    },
    {
     "name": "stderr",
     "output_type": "stream",
     "text": [
      "/var/folders/hz/3_2dv4w90gs8pkz73dwf1l3w0000gp/T/ipykernel_39117/306836973.py:7: FutureWarning: Series.__getitem__ treating keys as positions is deprecated. In a future version, integer keys will always be treated as labels (consistent with DataFrame behavior). To access a value by position, use `ser.iloc[pos]`\n",
      "  hedge_ratio = model.params[1]\n"
     ]
    }
   ],
   "source": [
    "import statsmodels.api as sm\n",
    "\n",
    "y = spot_df['close'].pct_change().dropna()\n",
    "x = fut_df['close'].pct_change().dropna()\n",
    "x = sm.add_constant(x)\n",
    "model = sm.OLS(y, x).fit()\n",
    "hedge_ratio = model.params[1]\n",
    "print(\"Optimal hedge ratio:\", hedge_ratio)"
   ]
  },
  {
   "cell_type": "markdown",
   "id": "e057f5c0-8d46-4ada-bc72-c2f314349818",
   "metadata": {},
   "source": [
    "1. **What is a hedge?**\n",
    "\n",
    "Imagine you **own something risky** (say Bitcoin). Its price jumps up and down a lot.\n",
    "\n",
    "You don’t want to suffer big losses if the price suddenly drops.\n",
    "\n",
    "To protect yourself, you “hedge” — which usually means taking an opposite position in a related market (like futures contracts).\n",
    "\n",
    "👉 The idea: losses in one side (spot) are offset by gains in the hedge (futures).\n",
    "\n",
    "2. **What is the hedge ratio?**\n",
    "\n",
    "The hedge ratio tells you how big your hedge should be.\n",
    "\n",
    "If you own 1 BTC, do you hedge with 1 BTC worth of futures? Or 0.7 BTC worth? Or 1.2 BTC worth?\n",
    "\n",
    "That proportion is the hedge ratio.\n",
    "\n",
    "3. **Optimal Hedge Ratio (OHR)**\n",
    "\n",
    "The OHR is the 𝛽 that minimizes the variance (ups and downs) of the combined portfolio.\n",
    "\n",
    "That’s why we run the regression: OLS slope gives the best linear “fit” between spot and futures returns."
   ]
  },
  {
   "cell_type": "markdown",
   "id": "98d968ad-b9ec-4bb4-ad7a-8bc39b5e57a6",
   "metadata": {},
   "source": [
    "4️⃣ **Backtesting Framework**\n",
    "\n",
    "You’ll want to simulate hedging:\n",
    "\n",
    "- Start with spot long only.\n",
    "\n",
    "- Add futures short with OHR.\n",
    "\n",
    "- Compare variance & drawdowns.\n",
    "\n",
    "Metric:\n",
    "\n",
    "- **Variance reduction %**\n",
    "\n",
    "- **Sharpe ratio improvement**\n",
    "\n",
    "This is your PhD Study 1 empirical test and your P&L check before going live."
   ]
  },
  {
   "cell_type": "markdown",
   "id": "9c80c6d1-92c2-476f-8ff4-5746f282575e",
   "metadata": {},
   "source": [
    "5️⃣ **Execution Layer (Live Trading)**\n",
    "\n",
    "To make money now, you need execution.\n",
    "\n",
    "**Binance API** (via ```ccxt```) allows **create_order** for spot & futures.\n",
    "\n",
    "Start with **paper trading mode** (binance testnet) until system stable.\n",
    "\n",
    "**Implementation step**:"
   ]
  },
  {
   "cell_type": "code",
   "execution_count": null,
   "id": "49757b16-77b7-4e49-a1eb-fec3699933fc",
   "metadata": {},
   "outputs": [],
   "source": [
    "# Example: place short futures hedge\n",
    "binance.set_sandbox_mode(True)  # testnet\n",
    "binance.create_order('BTC/USDT:USDT', type='market', side='sell', amount=0.1)"
   ]
  },
  {
   "cell_type": "markdown",
   "id": "f5fefd70-a31e-4818-88ab-d609f31f40cd",
   "metadata": {},
   "source": [
    "6️⃣ **Add Dynamic Hedging (PhD–Practical Bridge)**\n",
    "\n",
    "Static hedge = always OHR.\n",
    "Dynamic hedge = adjust based on volatility forecast.\n",
    "\n",
    "Train ML models (XGBoost baseline → later LSTM/Transformers) to forecast next-day volatility.\n",
    "\n",
    "Rule:\n",
    "\n",
    "If vol forecast > threshold → increase hedge ratio.\n",
    "\n",
    "If vol forecast low → reduce/skip hedge.\n",
    "\n",
    "This is **directly your PhD contribution**: proving ML adds value vs. static hedge."
   ]
  },
  {
   "cell_type": "markdown",
   "id": "17ff9880-dbe2-4e50-893b-c3800e349b0e",
   "metadata": {},
   "source": [
    "7️⃣ **Automation & Monitoring**\n",
    "\n",
    "Schedule pipeline: ```cron``` / ```Airflow``` / ```GitHub Actions```.\n",
    "\n",
    "Logging: write trades & hedge ratios to CSV + Google Sheets (for quick sanity check).\n",
    "\n",
    "Alerts: Slack/Zapier webhook for failed trades or funding rate anomalies."
   ]
  },
  {
   "cell_type": "code",
   "execution_count": null,
   "id": "e96698b8-0b01-4d27-af2c-d09b08564aff",
   "metadata": {},
   "outputs": [],
   "source": []
  }
 ],
 "metadata": {
  "jupytext": {
   "cell_metadata_filter": "-all",
   "notebook_metadata_filter": "jupytext,text_representation,kernelspec"
  },
  "kernelspec": {
   "display_name": "Python 3.11 (.venv)",
   "language": "python",
   "name": "crypto-vol-quickstart-311"
  },
  "language_info": {
   "codemirror_mode": {
    "name": "ipython",
    "version": 3
   },
   "file_extension": ".py",
   "mimetype": "text/x-python",
   "name": "python",
   "nbconvert_exporter": "python",
   "pygments_lexer": "ipython3",
   "version": "3.11.13"
  }
 },
 "nbformat": 4,
 "nbformat_minor": 5
}
